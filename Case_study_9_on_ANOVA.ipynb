{
 "cells": [
  {
   "cell_type": "code",
   "execution_count": 1,
   "id": "fd34c330",
   "metadata": {},
   "outputs": [],
   "source": [
    "# Import the libraries\n",
    "import numpy as np\n",
    "import pandas as pd\n",
    "import scipy.stats as stats\n",
    "import matplotlib.pyplot as plt\n",
    "import seaborn as sns"
   ]
  },
  {
   "cell_type": "code",
   "execution_count": 2,
   "id": "38f00b3d",
   "metadata": {},
   "outputs": [
    {
     "data": {
      "text/html": [
       "<div>\n",
       "<style scoped>\n",
       "    .dataframe tbody tr th:only-of-type {\n",
       "        vertical-align: middle;\n",
       "    }\n",
       "\n",
       "    .dataframe tbody tr th {\n",
       "        vertical-align: top;\n",
       "    }\n",
       "\n",
       "    .dataframe thead th {\n",
       "        text-align: right;\n",
       "    }\n",
       "</style>\n",
       "<table border=\"1\" class=\"dataframe\">\n",
       "  <thead>\n",
       "    <tr style=\"text-align: right;\">\n",
       "      <th></th>\n",
       "      <th>Month</th>\n",
       "      <th>Zone - A</th>\n",
       "      <th>Zone - B</th>\n",
       "      <th>Zone - C</th>\n",
       "      <th>Zone - D</th>\n",
       "    </tr>\n",
       "  </thead>\n",
       "  <tbody>\n",
       "    <tr>\n",
       "      <th>0</th>\n",
       "      <td>Month - 1</td>\n",
       "      <td>1483525</td>\n",
       "      <td>1748451</td>\n",
       "      <td>1523308</td>\n",
       "      <td>2267260</td>\n",
       "    </tr>\n",
       "    <tr>\n",
       "      <th>1</th>\n",
       "      <td>Month - 2</td>\n",
       "      <td>1238428</td>\n",
       "      <td>1707421</td>\n",
       "      <td>2212113</td>\n",
       "      <td>1994341</td>\n",
       "    </tr>\n",
       "    <tr>\n",
       "      <th>2</th>\n",
       "      <td>Month - 3</td>\n",
       "      <td>1860771</td>\n",
       "      <td>2091194</td>\n",
       "      <td>1282374</td>\n",
       "      <td>1241600</td>\n",
       "    </tr>\n",
       "    <tr>\n",
       "      <th>3</th>\n",
       "      <td>Month - 4</td>\n",
       "      <td>1871571</td>\n",
       "      <td>1759617</td>\n",
       "      <td>2290580</td>\n",
       "      <td>2252681</td>\n",
       "    </tr>\n",
       "    <tr>\n",
       "      <th>4</th>\n",
       "      <td>Month - 5</td>\n",
       "      <td>1244922</td>\n",
       "      <td>1606010</td>\n",
       "      <td>1818334</td>\n",
       "      <td>1326062</td>\n",
       "    </tr>\n",
       "    <tr>\n",
       "      <th>5</th>\n",
       "      <td>Month - 6</td>\n",
       "      <td>1534390</td>\n",
       "      <td>1573128</td>\n",
       "      <td>1751825</td>\n",
       "      <td>2292044</td>\n",
       "    </tr>\n",
       "    <tr>\n",
       "      <th>6</th>\n",
       "      <td>Month - 7</td>\n",
       "      <td>1820196</td>\n",
       "      <td>1992031</td>\n",
       "      <td>1786826</td>\n",
       "      <td>1688055</td>\n",
       "    </tr>\n",
       "    <tr>\n",
       "      <th>7</th>\n",
       "      <td>Month - 8</td>\n",
       "      <td>1625696</td>\n",
       "      <td>1665534</td>\n",
       "      <td>2161754</td>\n",
       "      <td>2363315</td>\n",
       "    </tr>\n",
       "    <tr>\n",
       "      <th>8</th>\n",
       "      <td>Month - 9</td>\n",
       "      <td>1652644</td>\n",
       "      <td>1873402</td>\n",
       "      <td>1755290</td>\n",
       "      <td>1422059</td>\n",
       "    </tr>\n",
       "    <tr>\n",
       "      <th>9</th>\n",
       "      <td>Month - 10</td>\n",
       "      <td>1852450</td>\n",
       "      <td>1913059</td>\n",
       "      <td>1754314</td>\n",
       "      <td>1608387</td>\n",
       "    </tr>\n",
       "  </tbody>\n",
       "</table>\n",
       "</div>"
      ],
      "text/plain": [
       "        Month  Zone - A  Zone - B  Zone - C  Zone - D\n",
       "0   Month - 1   1483525   1748451   1523308   2267260\n",
       "1   Month - 2   1238428   1707421   2212113   1994341\n",
       "2   Month - 3   1860771   2091194   1282374   1241600\n",
       "3   Month - 4   1871571   1759617   2290580   2252681\n",
       "4   Month - 5   1244922   1606010   1818334   1326062\n",
       "5   Month - 6   1534390   1573128   1751825   2292044\n",
       "6   Month - 7   1820196   1992031   1786826   1688055\n",
       "7   Month - 8   1625696   1665534   2161754   2363315\n",
       "8   Month - 9   1652644   1873402   1755290   1422059\n",
       "9  Month - 10   1852450   1913059   1754314   1608387"
      ]
     },
     "execution_count": 2,
     "metadata": {},
     "output_type": "execute_result"
    }
   ],
   "source": [
    "# Read the dataset\n",
    "df = pd.read_csv(\"Sales_data_zone_wise.csv\")\n",
    "df.head(10)"
   ]
  },
  {
   "cell_type": "code",
   "execution_count": 3,
   "id": "b744b795",
   "metadata": {},
   "outputs": [
    {
     "data": {
      "text/plain": [
       "(29, 5)"
      ]
     },
     "execution_count": 3,
     "metadata": {},
     "output_type": "execute_result"
    }
   ],
   "source": [
    "df.shape"
   ]
  },
  {
   "cell_type": "code",
   "execution_count": 4,
   "id": "6ca9e828",
   "metadata": {},
   "outputs": [
    {
     "data": {
      "text/plain": [
       "Month       0\n",
       "Zone - A    0\n",
       "Zone - B    0\n",
       "Zone - C    0\n",
       "Zone - D    0\n",
       "dtype: int64"
      ]
     },
     "execution_count": 4,
     "metadata": {},
     "output_type": "execute_result"
    }
   ],
   "source": [
    "# To check the null values\n",
    "df.isna().sum()"
   ]
  },
  {
   "cell_type": "code",
   "execution_count": 5,
   "id": "25d7ed2e",
   "metadata": {},
   "outputs": [
    {
     "name": "stdout",
     "output_type": "stream",
     "text": [
      "<class 'pandas.core.frame.DataFrame'>\n",
      "RangeIndex: 29 entries, 0 to 28\n",
      "Data columns (total 5 columns):\n",
      " #   Column    Non-Null Count  Dtype \n",
      "---  ------    --------------  ----- \n",
      " 0   Month     29 non-null     object\n",
      " 1   Zone - A  29 non-null     int64 \n",
      " 2   Zone - B  29 non-null     int64 \n",
      " 3   Zone - C  29 non-null     int64 \n",
      " 4   Zone - D  29 non-null     int64 \n",
      "dtypes: int64(4), object(1)\n",
      "memory usage: 1.3+ KB\n"
     ]
    }
   ],
   "source": [
    "df.info()"
   ]
  },
  {
   "cell_type": "markdown",
   "id": "d9526166",
   "metadata": {},
   "source": [
    "XYZ Company has offices in four different zones.The dataset contain sales amount of four different zones.There are 29 entries and 5 columns.Four zones with integer value and Month as object.\n",
    "There is no missing values present in the dataset."
   ]
  },
  {
   "cell_type": "code",
   "execution_count": 6,
   "id": "a8318154",
   "metadata": {},
   "outputs": [
    {
     "data": {
      "text/html": [
       "<div>\n",
       "<style scoped>\n",
       "    .dataframe tbody tr th:only-of-type {\n",
       "        vertical-align: middle;\n",
       "    }\n",
       "\n",
       "    .dataframe tbody tr th {\n",
       "        vertical-align: top;\n",
       "    }\n",
       "\n",
       "    .dataframe thead th {\n",
       "        text-align: right;\n",
       "    }\n",
       "</style>\n",
       "<table border=\"1\" class=\"dataframe\">\n",
       "  <thead>\n",
       "    <tr style=\"text-align: right;\">\n",
       "      <th></th>\n",
       "      <th>Zone - A</th>\n",
       "      <th>Zone - B</th>\n",
       "      <th>Zone - C</th>\n",
       "      <th>Zone - D</th>\n",
       "    </tr>\n",
       "  </thead>\n",
       "  <tbody>\n",
       "    <tr>\n",
       "      <th>count</th>\n",
       "      <td>2.900000e+01</td>\n",
       "      <td>2.900000e+01</td>\n",
       "      <td>2.900000e+01</td>\n",
       "      <td>2.900000e+01</td>\n",
       "    </tr>\n",
       "    <tr>\n",
       "      <th>mean</th>\n",
       "      <td>1.540493e+06</td>\n",
       "      <td>1.755560e+06</td>\n",
       "      <td>1.772871e+06</td>\n",
       "      <td>1.842927e+06</td>\n",
       "    </tr>\n",
       "    <tr>\n",
       "      <th>std</th>\n",
       "      <td>2.619401e+05</td>\n",
       "      <td>1.683899e+05</td>\n",
       "      <td>3.331937e+05</td>\n",
       "      <td>3.750165e+05</td>\n",
       "    </tr>\n",
       "    <tr>\n",
       "      <th>min</th>\n",
       "      <td>1.128185e+06</td>\n",
       "      <td>1.527574e+06</td>\n",
       "      <td>1.237722e+06</td>\n",
       "      <td>1.234311e+06</td>\n",
       "    </tr>\n",
       "    <tr>\n",
       "      <th>25%</th>\n",
       "      <td>1.305972e+06</td>\n",
       "      <td>1.606010e+06</td>\n",
       "      <td>1.523308e+06</td>\n",
       "      <td>1.520406e+06</td>\n",
       "    </tr>\n",
       "    <tr>\n",
       "      <th>50%</th>\n",
       "      <td>1.534390e+06</td>\n",
       "      <td>1.740365e+06</td>\n",
       "      <td>1.767047e+06</td>\n",
       "      <td>1.854412e+06</td>\n",
       "    </tr>\n",
       "    <tr>\n",
       "      <th>75%</th>\n",
       "      <td>1.820196e+06</td>\n",
       "      <td>1.875658e+06</td>\n",
       "      <td>2.098463e+06</td>\n",
       "      <td>2.180416e+06</td>\n",
       "    </tr>\n",
       "    <tr>\n",
       "      <th>max</th>\n",
       "      <td>2.004480e+06</td>\n",
       "      <td>2.091194e+06</td>\n",
       "      <td>2.290580e+06</td>\n",
       "      <td>2.364132e+06</td>\n",
       "    </tr>\n",
       "  </tbody>\n",
       "</table>\n",
       "</div>"
      ],
      "text/plain": [
       "           Zone - A      Zone - B      Zone - C      Zone - D\n",
       "count  2.900000e+01  2.900000e+01  2.900000e+01  2.900000e+01\n",
       "mean   1.540493e+06  1.755560e+06  1.772871e+06  1.842927e+06\n",
       "std    2.619401e+05  1.683899e+05  3.331937e+05  3.750165e+05\n",
       "min    1.128185e+06  1.527574e+06  1.237722e+06  1.234311e+06\n",
       "25%    1.305972e+06  1.606010e+06  1.523308e+06  1.520406e+06\n",
       "50%    1.534390e+06  1.740365e+06  1.767047e+06  1.854412e+06\n",
       "75%    1.820196e+06  1.875658e+06  2.098463e+06  2.180416e+06\n",
       "max    2.004480e+06  2.091194e+06  2.290580e+06  2.364132e+06"
      ]
     },
     "execution_count": 6,
     "metadata": {},
     "output_type": "execute_result"
    }
   ],
   "source": [
    "df.describe()"
   ]
  },
  {
   "cell_type": "markdown",
   "id": "087f87f8",
   "metadata": {},
   "source": [
    "### ● The mean sales generated by each zone.\n"
   ]
  },
  {
   "cell_type": "code",
   "execution_count": 7,
   "id": "d2461524",
   "metadata": {},
   "outputs": [],
   "source": [
    "mean_sales = df[['Zone - A','Zone - B','Zone - C','Zone - D']].mean()"
   ]
  },
  {
   "cell_type": "code",
   "execution_count": 8,
   "id": "da68a0bf",
   "metadata": {},
   "outputs": [
    {
     "data": {
      "text/plain": [
       "Zone - A    1.540493e+06\n",
       "Zone - B    1.755560e+06\n",
       "Zone - C    1.772871e+06\n",
       "Zone - D    1.842927e+06\n",
       "dtype: float64"
      ]
     },
     "execution_count": 8,
     "metadata": {},
     "output_type": "execute_result"
    }
   ],
   "source": [
    "mean_sales"
   ]
  },
  {
   "cell_type": "code",
   "execution_count": 10,
   "id": "a6c0dde6",
   "metadata": {},
   "outputs": [
    {
     "data": {
      "text/plain": [
       "('Zone - A', 'Zone - B', 'Zone - C', 'Zone - D')"
      ]
     },
     "execution_count": 10,
     "metadata": {},
     "output_type": "execute_result"
    }
   ],
   "source": [
    "Zones = 'Zone - A','Zone - B','Zone - C','Zone - D'\n",
    "Zones"
   ]
  },
  {
   "cell_type": "code",
   "execution_count": 11,
   "id": "f2ea7221",
   "metadata": {},
   "outputs": [
    {
     "data": {
      "image/png": "[encoded data removed]",
      "text/plain": [
       "<Figure size 432x288 with 1 Axes>"
      ]
     },
     "metadata": {
      "needs_background": "light"
     },
     "output_type": "display_data"
    }
   ],
   "source": [
    "plt.bar(Zones,mean_sales,color ='red')\n",
    "plt.title('Mean sales by each Zones')\n",
    "plt.xlabel('Different Zones')\n",
    "plt.ylabel('Mean_sales')\n",
    "plt.grid()"
   ]
  },
  {
   "cell_type": "code",
   "execution_count": 12,
   "id": "75d093b6",
   "metadata": {},
   "outputs": [],
   "source": [
    "# Insights"
   ]
  },
  {
   "cell_type": "markdown",
   "id": "f94d8def",
   "metadata": {},
   "source": [
    "    Here, Zone-D has high mean score than other zones.Mean sales of Zone A is low."
   ]
  },
  {
   "cell_type": "markdown",
   "id": "7db35763",
   "metadata": {},
   "source": [
    "### ● Total sales generated by all the zones for each month."
   ]
  },
  {
   "cell_type": "code",
   "execution_count": 38,
   "id": "ed3594a4",
   "metadata": {},
   "outputs": [
    {
     "data": {
      "text/plain": [
       "0     7022544\n",
       "1     7152303\n",
       "2     6475939\n",
       "3     8174449\n",
       "4     5995328\n",
       "5     7151387\n",
       "6     7287108\n",
       "7     7816299\n",
       "8     6703395\n",
       "9     7128210\n",
       "10    7032783\n",
       "11    6111084\n",
       "12    5925424\n",
       "13    7155515\n",
       "14    5934156\n",
       "15    6506659\n",
       "16    7149383\n",
       "17    7083490\n",
       "18    6971953\n",
       "19    7124599\n",
       "20    7389597\n",
       "21    7560001\n",
       "22    6687919\n",
       "23    7784747\n",
       "24    6095918\n",
       "25    6512360\n",
       "26    6267918\n",
       "27    7470920\n",
       "28    6772277\n",
       "dtype: int64"
      ]
     },
     "execution_count": 38,
     "metadata": {},
     "output_type": "execute_result"
    }
   ],
   "source": [
    "Total_sales = df.sum(axis = 1)\n",
    "Total_sales"
   ]
  },
  {
   "cell_type": "markdown",
   "id": "cc0bfb08",
   "metadata": {},
   "source": [
    "    Here, the total sales of all zones in each month the highest sales occur in month 3-(817449) and the lowest sale occur in month 12-(5925424)"
   ]
  },
  {
   "cell_type": "markdown",
   "id": "bda2cb85",
   "metadata": {},
   "source": [
    "### ● Check whether all the zones generate the same amount of sales."
   ]
  },
  {
   "cell_type": "code",
   "execution_count": 13,
   "id": "41f4d76c",
   "metadata": {},
   "outputs": [],
   "source": [
    "# One way Anova can be used"
   ]
  },
  {
   "cell_type": "markdown",
   "id": "5c69bcb4",
   "metadata": {},
   "source": [
    "    Ho:Amount of sales generated by all the zones are same\n",
    "    H1:Amount of sales generated by all the zones are different"
   ]
  },
  {
   "cell_type": "code",
   "execution_count": 14,
   "id": "df3720f3",
   "metadata": {},
   "outputs": [],
   "source": [
    "F,P=stats.f_oneway(df['Zone - A'],df['Zone - B'],df['Zone - C'],df['Zone - D'])"
   ]
  },
  {
   "cell_type": "code",
   "execution_count": 15,
   "id": "8846f7d9",
   "metadata": {},
   "outputs": [
    {
     "data": {
      "text/plain": [
       "(5.672056106843581, 0.0011827601694503335)"
      ]
     },
     "execution_count": 15,
     "metadata": {},
     "output_type": "execute_result"
    }
   ],
   "source": [
    "F,P"
   ]
  },
  {
   "cell_type": "code",
   "execution_count": 16,
   "id": "fd567b48",
   "metadata": {},
   "outputs": [
    {
     "name": "stdout",
     "output_type": "stream",
     "text": [
      "pvalue = 0.0011827601694503335\n",
      "Reject the null hypothesis(Ho)\n"
     ]
    }
   ],
   "source": [
    "pvalue = 0.0011827601694503335\n",
    "print('pvalue =',pvalue)\n",
    "if pvalue < 0.05:\n",
    "    print('Reject the null hypothesis(Ho)')\n",
    "else:\n",
    "    print('Accept null hypothesis(Ho)')"
   ]
  },
  {
   "cell_type": "markdown",
   "id": "d350463d",
   "metadata": {},
   "source": [
    "### Insights"
   ]
  },
  {
   "cell_type": "markdown",
   "id": "33adf1d5",
   "metadata": {},
   "source": [
    "     Here, pvalue = 0.0011 < 0.05, we can reject the null hypothesis.That is amount of sales generated by all the zones are different."
   ]
  }
 ],
 "metadata": {
  "kernelspec": {
   "display_name": "Python 3 (ipykernel)",
   "language": "python",
   "name": "python3"
  },
  "language_info": {
   "codemirror_mode": {
    "name": "ipython",
    "version": 3
   },
   "file_extension": ".py",
   "mimetype": "text/x-python",
   "name": "python",
   "nbconvert_exporter": "python",
   "pygments_lexer": "ipython3",
   "version": "3.9.7"
  }
 },
 "nbformat": 4,
 "nbformat_minor": 5
}
